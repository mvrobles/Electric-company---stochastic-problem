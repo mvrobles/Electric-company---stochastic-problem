{
 "cells": [
  {
   "cell_type": "code",
   "execution_count": 51,
   "metadata": {},
   "outputs": [],
   "source": [
    "import numpy as np\n",
    "import gurobipy as gp\n",
    "from gurobipy import Model, GRB, quicksum"
   ]
  },
  {
   "cell_type": "code",
   "execution_count": 54,
   "metadata": {},
   "outputs": [
    {
     "name": "stdout",
     "output_type": "stream",
     "text": [
      "Gurobi Optimizer version 9.1.2 build v9.1.2rc0 (win64)\n",
      "Thread count: 2 physical cores, 4 logical processors, using up to 4 threads\n",
      "Optimize a model with 4 rows, 2 columns and 6 nonzeros\n",
      "Model fingerprint: 0xb42b4eb3\n",
      "Coefficient statistics:\n",
      "  Matrix range     [1e+00, 1e+01]\n",
      "  Objective range  [2e+01, 3e+01]\n",
      "  Bounds range     [0e+00, 0e+00]\n",
      "  RHS range        [1e+02, 2e+03]\n",
      "Presolve removed 4 rows and 2 columns\n",
      "Presolve time: 0.01s\n",
      "Presolve: All rows and columns removed\n",
      "Iteration    Objective       Primal Inf.    Dual Inf.      Time\n",
      "       0   -6.1000000e+03   0.000000e+00   0.000000e+00      0s\n",
      "\n",
      "Solved in 0 iterations and 0.01 seconds\n",
      "Optimal objective -6.100000000e+03\n",
      "\n",
      "Resultado:\n",
      "\n",
      "{1: <gurobi.Var C0 (value 137.5)>, 2: <gurobi.Var C1 (value 100.0)>} \n",
      "\n",
      "Pi del modelo: \n",
      "\n",
      "[0.0, -3.0, 0.0, -13.0]\n",
      "Optimal objective\n",
      " -6100.0\n"
     ]
    }
   ],
   "source": [
    "model = gp.Model('Intento')\n",
    "y = model.addVars([1,2], lb = 0, vtype = GRB.CONTINUOUS)\n",
    "obj = np.array([-24,-28])\n",
    "model.modelSense = GRB.MINIMIZE\n",
    "model.setObjective( quicksum(y[a]*obj[a-1] for a in range(1,3)) )\n",
    "\n",
    "lhs_ineq = np.array([[6,10],[8,5],[1,0],[0,1]])\n",
    "rhs_ineq = np.array([2400,1600,500,100])\n",
    "\n",
    "model.addMConstr (lhs_ineq, x = None, sense='<=', b = rhs_ineq, name=\"cons\" )\n",
    "model.optimize()\n",
    "print(\"\\nResultado:\\n\")\n",
    "print(y,\"\\n\")\n",
    "print(\"Pi del modelo: \\n\")\n",
    "print(model.pi)\n",
    "print(\"Optimal objective\\n\", model.objval)"
   ]
  },
  {
   "cell_type": "code",
   "execution_count": 13,
   "metadata": {
    "collapsed": true
   },
   "outputs": [
    {
     "ename": "NameError",
     "evalue": "name 'problemaMaestro' is not defined",
     "output_type": "error",
     "traceback": [
      "\u001b[1;31m---------------------------------------------------------------------------\u001b[0m",
      "\u001b[1;31mNameError\u001b[0m                                 Traceback (most recent call last)",
      "\u001b[1;32m<ipython-input-13-5423618e01d9>\u001b[0m in \u001b[0;36m<module>\u001b[1;34m\u001b[0m\n\u001b[0;32m      5\u001b[0m \u001b[0mb\u001b[0m \u001b[1;33m=\u001b[0m \u001b[0mnp\u001b[0m\u001b[1;33m.\u001b[0m\u001b[0marray\u001b[0m\u001b[1;33m(\u001b[0m\u001b[1;33m[\u001b[0m\u001b[1;36m120\u001b[0m\u001b[1;33m,\u001b[0m\u001b[1;36m40\u001b[0m\u001b[1;33m,\u001b[0m\u001b[1;36m20\u001b[0m\u001b[1;33m]\u001b[0m\u001b[1;33m)\u001b[0m\u001b[1;33m\u001b[0m\u001b[1;33m\u001b[0m\u001b[0m\n\u001b[0;32m      6\u001b[0m \u001b[1;33m\u001b[0m\u001b[0m\n\u001b[1;32m----> 7\u001b[1;33m \u001b[0mproblemaMaestro\u001b[0m\u001b[1;33m(\u001b[0m\u001b[0mnp\u001b[0m\u001b[1;33m.\u001b[0m\u001b[0marray\u001b[0m\u001b[1;33m(\u001b[0m\u001b[1;33m[\u001b[0m\u001b[1;33m]\u001b[0m\u001b[1;33m)\u001b[0m\u001b[1;33m,\u001b[0m \u001b[0mnp\u001b[0m\u001b[1;33m.\u001b[0m\u001b[0marray\u001b[0m\u001b[1;33m(\u001b[0m\u001b[1;33m[\u001b[0m\u001b[1;33m]\u001b[0m\u001b[1;33m)\u001b[0m\u001b[1;33m,\u001b[0m \u001b[0mc\u001b[0m\u001b[1;33m,\u001b[0m \u001b[0mA\u001b[0m\u001b[1;33m,\u001b[0m \u001b[0mb\u001b[0m\u001b[1;33m)\u001b[0m\u001b[1;33m\u001b[0m\u001b[1;33m\u001b[0m\u001b[0m\n\u001b[0m",
      "\u001b[1;31mNameError\u001b[0m: name 'problemaMaestro' is not defined"
     ]
    }
   ],
   "source": [
    "#Ejemplo\n",
    "#Ejemplo\n",
    "c = np.array([100,150,0,0,0])\n",
    "A = np.array([[1,1,1,0,0],[1,0,0,-1,0],[0,1,0,0,-1]])\n",
    "b = np.array([120,40,20])\n",
    "\n",
    "problemaMaestro(np.array([]), np.array([]), c, A, b)\n",
    "\n",
    "#Rta debería ser: (40,20) y theta = -inf"
   ]
  },
  {
   "cell_type": "code",
   "execution_count": 2,
   "metadata": {
    "collapsed": true
   },
   "outputs": [
    {
     "ename": "NameError",
     "evalue": "name 'problemaMaestro' is not defined",
     "output_type": "error",
     "traceback": [
      "\u001b[1;31m---------------------------------------------------------------------------\u001b[0m",
      "\u001b[1;31mNameError\u001b[0m                                 Traceback (most recent call last)",
      "\u001b[1;32m<ipython-input-2-192487b90fd9>\u001b[0m in \u001b[0;36m<module>\u001b[1;34m\u001b[0m\n\u001b[0;32m     10\u001b[0m \u001b[1;33m\u001b[0m\u001b[0m\n\u001b[0;32m     11\u001b[0m \u001b[1;33m\u001b[0m\u001b[0m\n\u001b[1;32m---> 12\u001b[1;33m \u001b[0mrta\u001b[0m \u001b[1;33m=\u001b[0m \u001b[0mproblemaMaestro\u001b[0m\u001b[1;33m(\u001b[0m\u001b[0mnp\u001b[0m\u001b[1;33m.\u001b[0m\u001b[0marray\u001b[0m\u001b[1;33m(\u001b[0m\u001b[1;33m[\u001b[0m\u001b[1;33m]\u001b[0m\u001b[1;33m)\u001b[0m\u001b[1;33m,\u001b[0m \u001b[0mE\u001b[0m\u001b[1;33m,\u001b[0m \u001b[0mc\u001b[0m\u001b[1;33m,\u001b[0m \u001b[0mA\u001b[0m\u001b[1;33m,\u001b[0m \u001b[0mb\u001b[0m\u001b[1;33m)\u001b[0m\u001b[1;33m\u001b[0m\u001b[1;33m\u001b[0m\u001b[0m\n\u001b[0m\u001b[0;32m     13\u001b[0m \u001b[0mprint\u001b[0m\u001b[1;33m(\u001b[0m\u001b[0mrta\u001b[0m\u001b[1;33m)\u001b[0m\u001b[1;33m\u001b[0m\u001b[1;33m\u001b[0m\u001b[0m\n\u001b[0;32m     14\u001b[0m \u001b[1;33m\u001b[0m\u001b[0m\n",
      "\u001b[1;31mNameError\u001b[0m: name 'problemaMaestro' is not defined"
     ]
    }
   ],
   "source": [
    "#Ejemplo caso 2:\n",
    "\n",
    "E = np.array([[83.52, 180.48, 0,0,0,-520]])\n",
    "\n",
    "c = np.array([100,150,0,0,0])\n",
    "A = np.array([[1,1,1,0,0],[1,0,0,-1,0],[0,1,0,0,-1]])\n",
    "b = np.array([120,40,20])\n",
    "\n",
    "\n",
    "rta = problemaMaestro(np.array([]), E, c, A, b)\n",
    "print(rta)\n",
    "\n",
    "#Rta debería ser: (40,80) y  theta = -18299.2"
   ]
  },
  {
   "cell_type": "code",
   "execution_count": 11,
   "metadata": {},
   "outputs": [
    {
     "data": {
      "text/plain": [
       "array([3, 2, 1, 4])"
      ]
     },
     "execution_count": 11,
     "metadata": {},
     "output_type": "execute_result"
    }
   ],
   "source": [
    "a = np.array([3,2,1])\n",
    "b = np.append(a,np.array([4]))\n",
    "b"
   ]
  },
  {
   "cell_type": "code",
   "execution_count": 43,
   "metadata": {},
   "outputs": [
    {
     "data": {
      "text/plain": [
       "array([9., 9., 9., 9., 9., 9., 9., 0., 0., 0., 0., 0., 0., 0., 0., 0., 0.,\n",
       "       0., 0.])"
      ]
     },
     "execution_count": 43,
     "metadata": {},
     "output_type": "execute_result"
    }
   ],
   "source": [
    "np.append(np.full(7,9),np.zeros(12))"
   ]
  },
  {
   "cell_type": "code",
   "execution_count": 49,
   "metadata": {},
   "outputs": [
    {
     "name": "stdout",
     "output_type": "stream",
     "text": [
      "[ True  True  True]\n"
     ]
    },
    {
     "data": {
      "text/plain": [
       "True"
      ]
     },
     "execution_count": 49,
     "metadata": {},
     "output_type": "execute_result"
    }
   ],
   "source": [
    "a = np.array( [3,2,1] )\n",
    "b = np.array( [4,4,2] )\n",
    "print(a <= b )\n",
    "np.all(a <= b)"
   ]
  },
  {
   "cell_type": "code",
   "execution_count": 50,
   "metadata": {},
   "outputs": [
    {
     "data": {
      "text/plain": [
       "19"
      ]
     },
     "execution_count": 50,
     "metadata": {},
     "output_type": "execute_result"
    }
   ],
   "source": [
    "q = np.append(np.full(7,9),np.zeros(12))\n",
    "q.size"
   ]
  },
  {
   "cell_type": "code",
   "execution_count": 56,
   "metadata": {},
   "outputs": [
    {
     "data": {
      "text/plain": [
       "True"
      ]
     },
     "execution_count": 56,
     "metadata": {},
     "output_type": "execute_result"
    }
   ],
   "source": [
    "np.isnan(np.nan)"
   ]
  },
  {
   "cell_type": "code",
   "execution_count": 86,
   "metadata": {
    "scrolled": true
   },
   "outputs": [
    {
     "name": "stdout",
     "output_type": "stream",
     "text": [
      "[[ 3  2  1  0  0  0  0  0]\n",
      " [ 2  5  0  1  0  0  0  0]\n",
      " [ 1  0  0  0 -1  0  0  0]\n",
      " [ 0  1  0  0  0 -1  0  0]\n",
      " [ 1  0  0  0  0  0  1  0]\n",
      " [ 0  1  0  0  0  0  0  1]]\n",
      "Gurobi Optimizer version 9.1.2 build v9.1.2rc0 (win64)\n",
      "Thread count: 2 physical cores, 4 logical processors, using up to 4 threads\n",
      "Optimize a model with 6 rows, 20 columns and 26 nonzeros\n",
      "Model fingerprint: 0xbb5f8a5f\n",
      "Coefficient statistics:\n",
      "  Matrix range     [1e+00, 5e+00]\n",
      "  Objective range  [1e+00, 1e+00]\n",
      "  Bounds range     [0e+00, 0e+00]\n",
      "  RHS range        [5e+00, 8e+00]\n",
      "Presolve removed 6 rows and 20 columns\n",
      "Presolve time: 0.02s\n",
      "Presolve: All rows and columns removed\n",
      "Iteration    Objective       Primal Inf.    Dual Inf.      Time\n",
      "       0    1.1200000e+01   0.000000e+00   0.000000e+00      0s\n",
      "\n",
      "Solved in 0 iterations and 0.04 seconds\n",
      "Optimal objective  1.120000000e+01\n"
     ]
    }
   ],
   "source": [
    "#Funciona: x in K2\n",
    "\n",
    "k = 0\n",
    "W= np.array([ [3,2,1,0,0,0,0,0],[2,5,0,1,0,0,0,0],[1,0,0,0,-1,0,0,0],[0,1,0,0,0,-1,0,0],[1,0,0,0,0,0,1,0],[0,1,0,0,0,0,0,1] ])\n",
    "q = np.array( [15,12,0,0,0,0,0,0] )\n",
    "\n",
    "print(W)\n",
    "\n",
    "#Itero sobre todas las posibles realizaciones de \\zeta:\n",
    "hact = np.array([0,0,4.8,6.4,6,8])\n",
    "bact = hact \n",
    "\n",
    "model = gp.Model('Auxiliar')\n",
    "\n",
    "vary = model.addVars(range(0,q.size), lb = 0, vtype = GRB.CONTINUOUS, name='vary')\n",
    "vmas = model.addVars(range(0,W.shape[0]), lb = 0, vtype = GRB.CONTINUOUS, name = 'vmas')\n",
    "vmenos = model.addVars(range(0,W.shape[0]), lb = 0, vtype = GRB.CONTINUOUS, name = 'vmenos')\n",
    "\n",
    "model.modelSense = GRB.MINIMIZE\n",
    "model.setObjective( quicksum(vmas[a] + vmenos[a]  for a in range(0,W.shape[0])) )\n",
    "\n",
    "Waux = np.hstack( (W, np.identity(W.shape[0]), -np.identity(W.shape[0])) )\n",
    "\n",
    "model.addMConstr( Waux, x=None, sense='=', b = bact, name=\"constr\" )\n",
    "\n",
    "model.optimize()\n",
    "\n",
    "\n"
   ]
  },
  {
   "cell_type": "code",
   "execution_count": 85,
   "metadata": {},
   "outputs": [
    {
     "name": "stdout",
     "output_type": "stream",
     "text": [
      "6\n"
     ]
    },
    {
     "data": {
      "text/plain": [
       "array([[ 3.,  2.,  1.,  0.,  0.,  0.,  0.,  0.,  1.,  0.,  0.,  0.,  0.,\n",
       "         0., -1., -0., -0., -0., -0., -0.],\n",
       "       [ 2.,  5.,  0.,  1.,  0.,  0.,  0.,  0.,  0.,  1.,  0.,  0.,  0.,\n",
       "         0., -0., -1., -0., -0., -0., -0.],\n",
       "       [ 1.,  0.,  0.,  0., -1.,  0.,  0.,  0.,  0.,  0.,  1.,  0.,  0.,\n",
       "         0., -0., -0., -1., -0., -0., -0.],\n",
       "       [ 0.,  1.,  0.,  0.,  0., -1.,  0.,  0.,  0.,  0.,  0.,  1.,  0.,\n",
       "         0., -0., -0., -0., -1., -0., -0.],\n",
       "       [ 1.,  0.,  0.,  0.,  0.,  0.,  1.,  0.,  0.,  0.,  0.,  0.,  1.,\n",
       "         0., -0., -0., -0., -0., -1., -0.],\n",
       "       [ 0.,  1.,  0.,  0.,  0.,  0.,  0.,  1.,  0.,  0.,  0.,  0.,  0.,\n",
       "         1., -0., -0., -0., -0., -0., -1.]])"
      ]
     },
     "execution_count": 85,
     "metadata": {},
     "output_type": "execute_result"
    }
   ],
   "source": [
    "W= np.array([ [3,2,1,0,0,0,0,0],[2,5,0,1,0,0,0,0],[1,0,0,0,-1,0,0,0],[0,1,0,0,0,-1,0,0],[1,0,0,0,0,0,1,0],[0,1,0,0,0,0,0,1] ])\n",
    "\n",
    "print(W.shape[0])\n",
    "\n",
    "Wact = np.hstack( (W, np.identity(W.shape[0]), -np.identity(W.shape[0])) )\n",
    "Wact"
   ]
  },
  {
   "cell_type": "code",
   "execution_count": null,
   "metadata": {},
   "outputs": [],
   "source": []
  }
 ],
 "metadata": {
  "kernelspec": {
   "display_name": "Python 3",
   "language": "python",
   "name": "python3"
  },
  "language_info": {
   "codemirror_mode": {
    "name": "ipython",
    "version": 3
   },
   "file_extension": ".py",
   "mimetype": "text/x-python",
   "name": "python",
   "nbconvert_exporter": "python",
   "pygments_lexer": "ipython3",
   "version": "3.8.5"
  }
 },
 "nbformat": 4,
 "nbformat_minor": 4
}
