{
 "cells": [
  {
   "cell_type": "code",
   "execution_count": 3,
   "metadata": {},
   "outputs": [],
   "source": [
    "import numpy as np\n",
    "import matplotlib.pyplot as plt\n",
    "import scipy as sp\n",
    "import scipy.sparse.linalg\n",
    "from scipy.sparse import csr_matrix, lil_matrix"
   ]
  },
  {
   "cell_type": "markdown",
   "metadata": {},
   "source": [
    "# Problema: A, T y W"
   ]
  },
  {
   "cell_type": "code",
   "execution_count": 2,
   "metadata": {},
   "outputs": [],
   "source": [
    "T = np.zeros((15,3))\n",
    "T[12,0] = 1\n",
    "T[13,1] = 1\n",
    "T[14,2] = 1\n",
    "W = np.zeros((15,21))\n",
    "for i in range(0,9):\n",
    "    W[i,i] = 1\n",
    "    W[i,i+9] = 1\n",
    "    W[9+i%3,i] = 1\n",
    "W[14,20]= -1\n",
    "W[13,19]= -1\n",
    "W[12,18] = -1\n",
    "\n",
    "#plt.imshow(T, cmap='Greens')\n",
    "#plt.gca().axes.get_yaxis().set_visible(False)\n",
    "#plt.gca().axes.get_xaxis().set_visible(False)\n",
    "#plt.imshow(W, cmap='PRGn')\n",
    "#plt.gca().axes.get_yaxis().set_visible(False)\n",
    "#plt.gca().axes.get_xaxis().set_visible(False)"
   ]
  },
  {
   "cell_type": "markdown",
   "metadata": {},
   "source": [
    "## Gurobi"
   ]
  },
  {
   "cell_type": "code",
   "execution_count": 4,
   "metadata": {},
   "outputs": [],
   "source": [
    "import gurobipy as gp\n",
    "from gurobipy import Model, GRB, quicksum"
   ]
  },
  {
   "cell_type": "code",
   "execution_count": 5,
   "metadata": {
    "collapsed": true
   },
   "outputs": [
    {
     "name": "stdout",
     "output_type": "stream",
     "text": [
      "Academic license - for non-commercial use only - expires 2021-06-26\n",
      "Using license file C:\\Users\\melir\\gurobi.lic\n",
      "Gurobi Optimizer version 9.1.2 build v9.1.2rc0 (win64)\n",
      "Thread count: 2 physical cores, 4 logical processors, using up to 4 threads\n",
      "Optimize a model with 4 rows, 2 columns and 6 nonzeros\n",
      "Model fingerprint: 0xb42b4eb3\n",
      "Coefficient statistics:\n",
      "  Matrix range     [1e+00, 1e+01]\n",
      "  Objective range  [2e+01, 3e+01]\n",
      "  Bounds range     [0e+00, 0e+00]\n",
      "  RHS range        [1e+02, 2e+03]\n",
      "Presolve removed 4 rows and 2 columns\n",
      "Presolve time: 0.02s\n",
      "Presolve: All rows and columns removed\n",
      "Iteration    Objective       Primal Inf.    Dual Inf.      Time\n",
      "       0   -6.1000000e+03   0.000000e+00   0.000000e+00      0s\n",
      "\n",
      "Solved in 0 iterations and 0.04 seconds\n",
      "Optimal objective -6.100000000e+03\n",
      "\n",
      "Resultado:\n",
      "\n",
      "{1: <gurobi.Var C0 (value 137.5)>, 2: <gurobi.Var C1 (value 100.0)>} \n",
      "\n",
      "Pi del modelo: \n",
      "\n",
      "[0.0, -3.0, 0.0, -13.0]\n"
     ]
    }
   ],
   "source": [
    "model = gp.Model('Intento')\n",
    "y = model.addVars([1,2], lb = 0, vtype = GRB.CONTINUOUS)\n",
    "obj = np.array([-24,-28])\n",
    "model.modelSense = GRB.MINIMIZE\n",
    "model.setObjective( quicksum(y[a]*obj[a-1] for a in range(1,3)) )\n",
    "\n",
    "lhs_ineq = np.array([[6,10],[8,5],[1,0],[0,1]])\n",
    "rhs_ineq = np.array([2400,1600,500,100])\n",
    "\n",
    "model.addMConstr (lhs_ineq, x = None, sense='<=', b = rhs_ineq, name=\"cons\" )\n",
    "model.optimize()\n",
    "print(\"\\nResultado:\\n\")\n",
    "print(y,\"\\n\")\n",
    "print(\"Pi del modelo: \\n\")\n",
    "print(model.pi)"
   ]
  },
  {
   "cell_type": "code",
   "execution_count": 42,
   "metadata": {},
   "outputs": [],
   "source": [
    "# D es una matriz rx2 donde en la primera columna están los valores de D_l y en la segunda los de d_l\n",
    "def problemaMaestro(D, E, c, A, b):\n",
    "    model = gp.Model('Maestro')\n",
    "    \n",
    "    #Verifica que las entradas estén bien.\n",
    "    if( D.any() and D.shape[1] != c.size+1 ):\n",
    "        return('Error en las entradas. D debe ser r x (c.size+1)')\n",
    "    \n",
    "    if( E.any() and E.shape[1] != c.size+1 ):\n",
    "        return('Error en las entradas. E debe ser s x (c.size+1)')\n",
    "    \n",
    "    if( E.any() == False and E.any() == False ): #Está funcionando.\n",
    "        x = model.addVars(range(0,c.size), lb = 0, vtype = GRB.CONTINUOUS)\n",
    "        model.modelSense = GRB.MINIMIZE\n",
    "        model.setObjective( quicksum(x[a]*c[a] for a in range(0,c.size)) )\n",
    "        \n",
    "        model.addMConstr (A, x = None, sense='=', b = b, name=\"constr\" )\n",
    "        model.optimize()\n",
    "        rta = np.array([x[i].x for i in range(0,c.size)])\n",
    "        return(rta,model.pi)\n",
    "    \n",
    "    elif( D.any() == False ): #Está funcionando.\n",
    "        e = E[:,-1]\n",
    "        E = np.hstack((E[:,:-1], np.ones((E.shape[0],1))))\n",
    "        varx = model.addVars(range(0,c.size), lb = 0, vtype = GRB.CONTINUOUS, name='varx')\n",
    "        theta = model.addVars(1, lb = float('-Inf'), vtype = GRB.CONTINUOUS, name = 'theta')\n",
    "\n",
    "        model.modelSense = GRB.MINIMIZE\n",
    "        model.setObjective( quicksum(varx[a]*c[a] for a in range(0,c.size)) + theta[0] )\n",
    "\n",
    "        list = [varx[i] for i in range(0,c.size)]\n",
    "        model.addMConstr (A, x = list, sense='=', b = b, name=\"constr\" )\n",
    "\n",
    "        list.append(theta[0])\n",
    "        model.addMConstr (E, x = list, sense='>=', b = e, name=\"constrE\" ) \n",
    "\n",
    "        model.optimize()\n",
    "        rta = np.array([varx[i].x for i in range(0,c.size)])\n",
    "        rta = np.concatenate((rta,np.array([theta[0].x])))\n",
    "        return(rta,model.pi)\n",
    "    \n",
    "    elif( E.any() == False ):\n",
    "        d = D[:,-1]\n",
    "        D = D[:,:-1] \n",
    "\n",
    "        x = model.addVars(range(0,c.size), lb = 0, vtype = GRB.CONTINUOUS)\n",
    "        model.modelSense = GRB.MINIMIZE\n",
    "        model.setObjective( quicksum(x[a]*c[a] for a in range(0,c.size)) )\n",
    "        \n",
    "        model.addMConstr (A, x = None, sense='=', b = b, name=\"constr\" )\n",
    "        \n",
    "        model.addMConstr (D, x = None, sense='>=', b = d )\n",
    "        \n",
    "        model.optimize()\n",
    "        rta = np.array([x[i].x for i in range(0,c.size)])\n",
    "        return(rta,model.pi)\n",
    "    \n",
    "    else: \n",
    "        e = E[:,-1]\n",
    "        E = np.hstack((E[:,:-1], np.ones((E.shape[0],1))))\n",
    "        d = D[:,-1]\n",
    "        D = D[:,:-1] \n",
    "        \n",
    "        varx = model.addVars(range(0,c.size), lb = 0, vtype = GRB.CONTINUOUS, name='varx')\n",
    "        theta = model.addVars(1, lb = float('-Inf'), vtype = GRB.CONTINUOUS, name = 'theta')\n",
    "        model.modelSense = GRB.MINIMIZE\n",
    "        model.setObjective( quicksum(varx[a]*c[a] for a in range(0,c.size)) + theta[0] )\n",
    "        list = [varx[i] for i in range(0,c.size)]\n",
    "        model.addMConstr (A, x = list, sense='=', b = b, name=\"constr\" )\n",
    "        model.addMConstr (D, x = list, sense='>=', b = d, name=\"constrD\" )\n",
    "\n",
    "        list.append(theta[0])\n",
    "        model.addMConstr (E, x = list, sense='>=', b = e, name=\"constrE\" ) \n",
    "        \n",
    "        model.optimize()\n",
    "        rta = np.array([varx[i].x for i in range(0,c.size)])\n",
    "        rta = np.concatenate((rta,np.array([theta[0].x])))        \n",
    "        return(rta,model.pi)\n",
    "            \n"
   ]
  },
  {
   "cell_type": "code",
   "execution_count": 43,
   "metadata": {},
   "outputs": [
    {
     "name": "stdout",
     "output_type": "stream",
     "text": [
      "Caso 2\n",
      "[[ 83.52 180.48   0.     0.     0.     1.  ]]\n",
      "Gurobi Optimizer version 9.1.2 build v9.1.2rc0 (win64)\n",
      "Thread count: 2 physical cores, 4 logical processors, using up to 4 threads\n",
      "Optimize a model with 4 rows, 6 columns and 10 nonzeros\n",
      "Model fingerprint: 0x81ebe631\n",
      "Coefficient statistics:\n",
      "  Matrix range     [1e+00, 2e+02]\n",
      "  Objective range  [1e+00, 2e+02]\n",
      "  Bounds range     [0e+00, 0e+00]\n",
      "  RHS range        [2e+01, 5e+02]\n",
      "Presolve removed 4 rows and 6 columns\n",
      "Presolve time: 0.01s\n",
      "Presolve: All rows and columns removed\n",
      "Iteration    Objective       Primal Inf.    Dual Inf.      Time\n",
      "       0   -2.2992000e+03   0.000000e+00   0.000000e+00      0s\n",
      "\n",
      "Solved in 0 iterations and 0.01 seconds\n",
      "Optimal objective -2.299200000e+03\n",
      "[40. 80.  0.  0. 60.]\n",
      "[-18299.2]\n",
      "(array([    40. ,     80. ,      0. ,      0. ,     60. , -18299.2]), [-30.47999999999999, 46.959999999999994, 0.0, 1.0])\n"
     ]
    }
   ],
   "source": [
    "#Ejemplo caso 2:\n",
    "\n",
    "E = np.array([[83.52, 180.48, 0,0,0,-520]])\n",
    "\n",
    "c = np.array([100,150,0,0,0])\n",
    "A = np.array([[1,1,1,0,0],[1,0,0,-1,0],[0,1,0,0,-1]])\n",
    "b = np.array([120,40,20])\n",
    "\n",
    "\n",
    "rta = problemaMaestro(np.array([]), E, c, A, b)\n",
    "print(rta)\n",
    "\n"
   ]
  },
  {
   "cell_type": "markdown",
   "metadata": {},
   "source": [
    "## Escenarios\n",
    "Creamos 5000 escenarios para el vector $\\zeta = (r_1,r_2,r_3,d_1,d_2,d_3)$ de forma uniforme. Pueden tomar valores enteros, $ 20 \\leq r_1,r_2,r_3 \\leq 30$ y $(d_1,d_2,d_3) \\in \\{(0,8,25),(1,15,35),(1,11,40),(3,20,55),(4,20,70)\\}$. Tenemos entonces $10\\times 10\\times 10 \\times 5 = 5000$ valores posibles para $\\zeta$. Cada uno lo tomamos con probabilidad $p = \\frac{1}{5000}$."
   ]
  },
  {
   "cell_type": "code",
   "execution_count": null,
   "metadata": {},
   "outputs": [],
   "source": [
    "obj = np.array([10,15,20,float('-Inf')])\n",
    "print(obj)\n",
    "print(range(1,obj.size+1))\n"
   ]
  },
  {
   "cell_type": "code",
   "execution_count": null,
   "metadata": {},
   "outputs": [],
   "source": []
  }
 ],
 "metadata": {
  "kernelspec": {
   "display_name": "Python 3",
   "language": "python",
   "name": "python3"
  },
  "language_info": {
   "codemirror_mode": {
    "name": "ipython",
    "version": 3
   },
   "file_extension": ".py",
   "mimetype": "text/x-python",
   "name": "python",
   "nbconvert_exporter": "python",
   "pygments_lexer": "ipython3",
   "version": "3.8.5"
  }
 },
 "nbformat": 4,
 "nbformat_minor": 4
}
